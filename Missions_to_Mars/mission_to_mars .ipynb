{
 "cells": [
  {
   "cell_type": "code",
   "execution_count": 2,
   "id": "2ed75063-cbad-4cb9-9c4c-c909a206c15e",
   "metadata": {},
   "outputs": [],
   "source": [
    "# Dependencies\n",
    "from splinter import Browser\n",
    "from bs4 import BeautifulSoup\n",
    "from webdriver_manager.chrome import ChromeDriverManager\n",
    "import urllib.request \n",
    "import os\n",
    "import pandas as pd"
   ]
  },
  {
   "cell_type": "code",
   "execution_count": 86,
   "id": "6f113f4d-4cd6-440c-ba98-e539049a9e2c",
   "metadata": {},
   "outputs": [],
   "source": [
    "# URL of page to be scraped\n",
    "#url =\"https://redplanetscience.com/\"\n",
    "filepath = os.path.join(\"News - Mars Exploration Program.html\")\n",
    "with open(filepath, encoding='utf-8') as file:\n",
    "    html = file.read()"
   ]
  },
  {
   "cell_type": "code",
   "execution_count": 87,
   "id": "0362e303-91d9-49a7-9dfe-73af8fe50643",
   "metadata": {},
   "outputs": [],
   "source": [
    "# Retrieve page with the requests module\n",
    "#response = requests.get(url)\n",
    "soup = BeautifulSoup(html, 'html.parser')\n"
   ]
  },
  {
   "cell_type": "code",
   "execution_count": null,
   "id": "c68de44f-7376-496e-be8d-2996389b1275",
   "metadata": {},
   "outputs": [],
   "source": [
    "# Examine the results, then determine element that contains sought info\n",
    "print(soup.prettify())"
   ]
  },
  {
   "cell_type": "code",
   "execution_count": 90,
   "id": "b3fe0b3e-1895-4f28-9d9b-18c211c2fa62",
   "metadata": {},
   "outputs": [],
   "source": [
    "# results are returned as an iterable list\n",
    "results = soup.find('section',class_='image_and_description_container')"
   ]
  },
  {
   "cell_type": "code",
   "execution_count": 108,
   "id": "6d07e3cf-ffea-46e5-979e-6c80110822a9",
   "metadata": {},
   "outputs": [],
   "source": [
    "dates = soup.find_all('div',class_ ='list_date')\n",
    "# A blank list to hold dates\n",
    "date_list = []\n",
    "# Loop over div elements\n",
    "for date in dates:\n",
    "     date_list.append(date.text)\n",
    "    "
   ]
  },
  {
   "cell_type": "code",
   "execution_count": 109,
   "id": "5f4c79d4-5fc5-426f-88bc-fb1a3592f7e1",
   "metadata": {},
   "outputs": [
    {
     "name": "stdout",
     "output_type": "stream",
     "text": [
      "['January 17, 2022', 'January 16, 2022', 'January 16, 2022', 'January 16, 2022', 'January 15, 2022', 'January 14, 2022', 'January 10, 2022', 'January 3, 2022', 'January 3, 2022', 'December 29, 2021', 'December 27, 2021', 'December 25, 2021', 'December 21, 2021', 'December 21, 2021', 'December 20, 2021']\n"
     ]
    }
   ],
   "source": [
    "print(date_list)"
   ]
  },
  {
   "cell_type": "code",
   "execution_count": 110,
   "id": "7d621210-7231-4c61-aa1f-9ec7c304cfab",
   "metadata": {},
   "outputs": [],
   "source": [
    "content_titles = soup.find_all('div',class_ ='content_title')\n",
    "# A blank list to hold dates\n",
    "content_titles_list = []\n",
    "# Loop over div elements\n",
    "for title in content_titles:\n",
    "     content_titles_list.append(title.text)\n",
    "        \n",
    "        \n"
   ]
  },
  {
   "cell_type": "code",
   "execution_count": 111,
   "id": "3b888b20-9881-47c4-986c-a419ddd35fef",
   "metadata": {},
   "outputs": [
    {
     "data": {
      "text/plain": [
       "[\"NASA's New Mars Rover Is Ready for Space Lasers\",\n",
       " \"A New Video Captures the Science of NASA's Perseverance Mars Rover\",\n",
       " 'NASA Adds Return Sample Scientists to Mars 2020 Leadership Team',\n",
       " \"NASA's Perseverance Rover Mission Getting in Shape for Launch\",\n",
       " \"NASA's Treasure Map for Water Ice on Mars\",\n",
       " \"Screening Soon: 'The Pathfinders' Trains Lens on Mars\",\n",
       " \"NASA Readies Perseverance Mars Rover's Earthly Twin \",\n",
       " 'Two of a Space Kind: Apollo 12 and Mars 2020',\n",
       " \"NASA's Mars 2020 Rover Tests Descent-Stage Separation\",\n",
       " \"Q&A with the Student Who Named Ingenuity, NASA's Mars Helicopter\",\n",
       " \"The Detective Aboard NASA's Perseverance Rover\",\n",
       " \"NASA's Curiosity Rover Finds an Ancient Oasis on Mars\",\n",
       " \"Celebrate Mars Reconnaissance Orbiter's Views From Above\",\n",
       " \"NASA's Perseverance Rover Will Look at Mars Through These 'Eyes'\",\n",
       " \"HiRISE Views NASA's InSight and Curiosity on Mars\"]"
      ]
     },
     "execution_count": 111,
     "metadata": {},
     "output_type": "execute_result"
    }
   ],
   "source": [
    "content_titles_list"
   ]
  },
  {
   "cell_type": "code",
   "execution_count": 112,
   "id": "2be5e018-6c11-49c2-94b0-76bdf02f2075",
   "metadata": {},
   "outputs": [],
   "source": [
    "articles_body = soup.find_all('div',class_ ='article_teaser_body')\n",
    "# A blank list to hold dates\n",
    "articles_body_list = []\n",
    "# Loop over div elements\n",
    "for article in articles_body:\n",
    "     articles_body_list.append(article.text)\n",
    "        "
   ]
  },
  {
   "cell_type": "code",
   "execution_count": 113,
   "id": "115c3413-b1dd-46b8-bd15-7fcc0060c72f",
   "metadata": {},
   "outputs": [
    {
     "data": {
      "text/plain": [
       "['Perseverance is one of a few Mars spacecraft carrying laser retroreflectors. The devices could provide new science and safer Mars landings in the future.',\n",
       " 'With a targeted launch date of July 30, the next robotic scientist NASA is sending to the to the Red Planet has big ambitions.',\n",
       " 'The leadership council for Mars 2020 science added two new members who represent the interests of scientists destined to handle and study the first samples from Red Planet.',\n",
       " 'Stacking spacecraft components on top of each other is one of the final assembly steps before a mission launches to the Red Planet. ',\n",
       " 'A new study identifies frozen water just below the Martian surface, where astronauts could easily dig it up.',\n",
       " 'With the Mars 2020 mission ramping up, the documentary — the first of four about past JPL missions to the Red Planet to be shown at Caltech — tells a gripping backstory.',\n",
       " \"Did you know NASA's next Mars rover has a nearly identical sibling on Earth for testing? Even better, it's about to roll for the first time through a replica Martian landscape.\",\n",
       " 'Apollo 12 and the upcoming Mars 2020 mission may be separated by half a century, but they share several goals unique in the annals of space exploration.',\n",
       " \"A crane lifts the rocket-powered descent stage away from NASA's Mars 2020 rover after technicians tested the pyrotechnic charges that separate the two spacecraft.\",\n",
       " 'As a longtime fan of space exploration, Vaneeza Rupani appreciates the creativity and collaboration involved with trying to fly on another planet.',\n",
       " 'An instrument called SHERLOC will, with the help of its partner WATSON, hunt for signs of ancient life by detecting organic molecules and minerals.',\n",
       " \"New evidence suggests salty, shallow ponds once dotted a Martian crater — a sign of the planet's drying climate.\",\n",
       " 'Marking its 15th anniversary since launch, one of the oldest spacecraft at the Red Planet has provided glimpses of dust devils, avalanches, and more.',\n",
       " 'A pair of zoomable cameras will help scientists and rover drivers with high-resolution color images.',\n",
       " 'New images taken from space offer the clearest orbital glimpse yet of InSight as well as a view of Curiosity rolling along.']"
      ]
     },
     "execution_count": 113,
     "metadata": {},
     "output_type": "execute_result"
    }
   ],
   "source": [
    "articles_body_list"
   ]
  },
  {
   "cell_type": "code",
   "execution_count": 114,
   "id": "bd1a0a11-35cc-4d1f-b735-67f2dcc8b3f2",
   "metadata": {},
   "outputs": [],
   "source": [
    "news_title=content_titles_list[0]\n",
    "news_p = articles_body_list[0]"
   ]
  },
  {
   "cell_type": "code",
   "execution_count": 115,
   "id": "c4299ff4-3a7c-44a9-a744-2b042ba4d045",
   "metadata": {},
   "outputs": [
    {
     "data": {
      "text/plain": [
       "\"NASA's New Mars Rover Is Ready for Space Lasers\""
      ]
     },
     "execution_count": 115,
     "metadata": {},
     "output_type": "execute_result"
    }
   ],
   "source": [
    "news_title"
   ]
  },
  {
   "cell_type": "code",
   "execution_count": 116,
   "id": "a0b5422d-10f2-46f6-b163-7fde71aeccc6",
   "metadata": {},
   "outputs": [
    {
     "data": {
      "text/plain": [
       "'Perseverance is one of a few Mars spacecraft carrying laser retroreflectors. The devices could provide new science and safer Mars landings in the future.'"
      ]
     },
     "execution_count": 116,
     "metadata": {},
     "output_type": "execute_result"
    }
   ],
   "source": [
    "news_p"
   ]
  },
  {
   "cell_type": "code",
   "execution_count": 409,
   "id": "974ab169-24e0-4b94-a7cb-3e537c91154d",
   "metadata": {},
   "outputs": [
    {
     "name": "stderr",
     "output_type": "stream",
     "text": [
      "\n",
      "\n",
      "====== WebDriver manager ======\n",
      "Current google-chrome version is 97.0.4692\n",
      "Get LATEST chromedriver version for 97.0.4692 google-chrome\n",
      "Driver [C:\\Users\\doyel\\.wdm\\drivers\\chromedriver\\win32\\97.0.4692.71\\chromedriver.exe] found in cache\n"
     ]
    }
   ],
   "source": [
    "# Setup splinter\n",
    "executable_path = {'executable_path': ChromeDriverManager().install()}\n",
    "browser = Browser('chrome', **executable_path, headless=False)"
   ]
  },
  {
   "cell_type": "code",
   "execution_count": 412,
   "id": "dacd3c81-ddfa-4ae6-9b41-c786d4340fb3",
   "metadata": {},
   "outputs": [],
   "source": [
    "url = \"https://spaceimages-mars.com/\"\n",
    "browser.visit(url)"
   ]
  },
  {
   "cell_type": "code",
   "execution_count": 411,
   "id": "b0c048f4-a4c7-4c57-89ba-5d018e74fce9",
   "metadata": {},
   "outputs": [],
   "source": [
    "# Design an XPATH selector to grab the \"Mars in natural color in 2007\" image on the right\n",
    "xpath = '//div//a//button[@class=\"btn btn-outline-light\"]'"
   ]
  },
  {
   "cell_type": "code",
   "execution_count": 146,
   "id": "921c39d0-ab4b-4add-ab61-428bfa039282",
   "metadata": {},
   "outputs": [
    {
     "data": {
      "text/plain": [
       "'//div//a//button[@class=\"btn btn-outline-light\"]'"
      ]
     },
     "execution_count": 146,
     "metadata": {},
     "output_type": "execute_result"
    }
   ],
   "source": [
    "xpath"
   ]
  },
  {
   "cell_type": "code",
   "execution_count": 147,
   "id": "94d30537-5bd3-46db-adf7-19726e4e9dc2",
   "metadata": {},
   "outputs": [],
   "source": [
    "# Use splinter to Click the \"Mars in natural color in 2007\" image \n",
    "# to bring up the full resolution image\n",
    "results = browser.find_by_xpath(xpath)\n",
    "button = results[0]\n",
    "button.click()"
   ]
  },
  {
   "cell_type": "code",
   "execution_count": 148,
   "id": "82a7cdfe-2601-4a52-91f7-4d98d0508c9b",
   "metadata": {},
   "outputs": [
    {
     "name": "stdout",
     "output_type": "stream",
     "text": [
      "<splinter.element_list.ElementList object at 0x00000238F2643190>\n"
     ]
    }
   ],
   "source": []
  },
  {
   "cell_type": "code",
   "execution_count": 150,
   "id": "8d865603-9f52-49cb-a1af-a2945be1233b",
   "metadata": {},
   "outputs": [
    {
     "data": {
      "text/plain": [
       "'image/featured/mars3.jpg'"
      ]
     },
     "execution_count": 150,
     "metadata": {},
     "output_type": "execute_result"
    }
   ],
   "source": [
    "# Scrape the browser into soup and use soup to find the full resolution image of mars\n",
    "# Save the image url to a variable called `img_url`\n",
    "html = browser.html\n",
    "soup = BeautifulSoup(html, 'html.parser')\n",
    "img_url = soup.find(\"img\", class_=\"fancybox-image\")[\"src\"]\n"
   ]
  },
  {
   "cell_type": "code",
   "execution_count": 151,
   "id": "16b807e0-05f4-4b63-add9-261fbe10d47c",
   "metadata": {},
   "outputs": [],
   "source": [
    "featured_image_url=img_url"
   ]
  },
  {
   "cell_type": "code",
   "execution_count": 154,
   "id": "27d4277a-07ee-4d2f-a0e6-4306283470cb",
   "metadata": {},
   "outputs": [],
   "source": []
  },
  {
   "cell_type": "code",
   "execution_count": null,
   "id": "fb496ef0-fa46-4add-b4b9-4f2056cb72c8",
   "metadata": {},
   "outputs": [],
   "source": [
    "browser.quit()"
   ]
  },
  {
   "cell_type": "markdown",
   "id": "bfbb844c-6e8f-4864-be6e-f6a29207cf9c",
   "metadata": {},
   "source": [
    "### Mars Facts\n",
    "\n",
    "\n",
    "### Visit the Mars Facts webpage here and use Pandas to scrape the table containing facts about the planet including Diameter, Mass, etc.\n",
    "\n",
    "\n",
    "### Use Pandas to convert the data to a HTML table string."
   ]
  },
  {
   "cell_type": "code",
   "execution_count": 3,
   "id": "b305ba91-25b7-4d64-b390-165da7137b1c",
   "metadata": {},
   "outputs": [],
   "source": [
    "url_panda = \"https://galaxyfacts-mars.com/\""
   ]
  },
  {
   "cell_type": "code",
   "execution_count": 4,
   "id": "a6325b8b-293b-4900-8d56-2b232daca93b",
   "metadata": {},
   "outputs": [
    {
     "data": {
      "text/plain": [
       "[                         0                1                2\n",
       " 0  Mars - Earth Comparison             Mars            Earth\n",
       " 1                Diameter:         6,779 km        12,742 km\n",
       " 2                    Mass:  6.39 × 10^23 kg  5.97 × 10^24 kg\n",
       " 3                   Moons:                2                1\n",
       " 4       Distance from Sun:   227,943,824 km   149,598,262 km\n",
       " 5          Length of Year:   687 Earth days      365.24 days\n",
       " 6             Temperature:     -87 to -5 °C      -88 to 58°C,\n",
       "                       0                              1\n",
       " 0  Equatorial Diameter:                       6,792 km\n",
       " 1       Polar Diameter:                       6,752 km\n",
       " 2                 Mass:  6.39 × 10^23 kg (0.11 Earths)\n",
       " 3                Moons:          2 ( Phobos & Deimos )\n",
       " 4       Orbit Distance:       227,943,824 km (1.38 AU)\n",
       " 5         Orbit Period:           687 days (1.9 years)\n",
       " 6  Surface Temperature:                   -87 to -5 °C\n",
       " 7         First Record:              2nd millennium BC\n",
       " 8          Recorded By:           Egyptian astronomers]"
      ]
     },
     "execution_count": 4,
     "metadata": {},
     "output_type": "execute_result"
    }
   ],
   "source": [
    "tables = pd.read_html(url_panda)\n",
    "tables"
   ]
  },
  {
   "cell_type": "code",
   "execution_count": 5,
   "id": "07ac3846-0cc0-45f6-a973-d75042a1e2aa",
   "metadata": {},
   "outputs": [
    {
     "data": {
      "text/plain": [
       "list"
      ]
     },
     "execution_count": 5,
     "metadata": {},
     "output_type": "execute_result"
    }
   ],
   "source": [
    "type(tables)"
   ]
  },
  {
   "cell_type": "code",
   "execution_count": 6,
   "id": "6785f020-a7e9-4251-997c-37e1e0c375f7",
   "metadata": {},
   "outputs": [
    {
     "data": {
      "text/html": [
       "<div>\n",
       "<style scoped>\n",
       "    .dataframe tbody tr th:only-of-type {\n",
       "        vertical-align: middle;\n",
       "    }\n",
       "\n",
       "    .dataframe tbody tr th {\n",
       "        vertical-align: top;\n",
       "    }\n",
       "\n",
       "    .dataframe thead th {\n",
       "        text-align: right;\n",
       "    }\n",
       "</style>\n",
       "<table border=\"1\" class=\"dataframe\">\n",
       "  <thead>\n",
       "    <tr style=\"text-align: right;\">\n",
       "      <th></th>\n",
       "      <th>Description</th>\n",
       "      <th>Mars</th>\n",
       "      <th>Earth</th>\n",
       "    </tr>\n",
       "  </thead>\n",
       "  <tbody>\n",
       "    <tr>\n",
       "      <th>0</th>\n",
       "      <td>Mars - Earth Comparison</td>\n",
       "      <td>Mars</td>\n",
       "      <td>Earth</td>\n",
       "    </tr>\n",
       "    <tr>\n",
       "      <th>1</th>\n",
       "      <td>Diameter:</td>\n",
       "      <td>6,779 km</td>\n",
       "      <td>12,742 km</td>\n",
       "    </tr>\n",
       "    <tr>\n",
       "      <th>2</th>\n",
       "      <td>Mass:</td>\n",
       "      <td>6.39 × 10^23 kg</td>\n",
       "      <td>5.97 × 10^24 kg</td>\n",
       "    </tr>\n",
       "    <tr>\n",
       "      <th>3</th>\n",
       "      <td>Moons:</td>\n",
       "      <td>2</td>\n",
       "      <td>1</td>\n",
       "    </tr>\n",
       "    <tr>\n",
       "      <th>4</th>\n",
       "      <td>Distance from Sun:</td>\n",
       "      <td>227,943,824 km</td>\n",
       "      <td>149,598,262 km</td>\n",
       "    </tr>\n",
       "    <tr>\n",
       "      <th>5</th>\n",
       "      <td>Length of Year:</td>\n",
       "      <td>687 Earth days</td>\n",
       "      <td>365.24 days</td>\n",
       "    </tr>\n",
       "    <tr>\n",
       "      <th>6</th>\n",
       "      <td>Temperature:</td>\n",
       "      <td>-87 to -5 °C</td>\n",
       "      <td>-88 to 58°C</td>\n",
       "    </tr>\n",
       "  </tbody>\n",
       "</table>\n",
       "</div>"
      ],
      "text/plain": [
       "               Description             Mars            Earth\n",
       "0  Mars - Earth Comparison             Mars            Earth\n",
       "1                Diameter:         6,779 km        12,742 km\n",
       "2                    Mass:  6.39 × 10^23 kg  5.97 × 10^24 kg\n",
       "3                   Moons:                2                1\n",
       "4       Distance from Sun:   227,943,824 km   149,598,262 km\n",
       "5          Length of Year:   687 Earth days      365.24 days\n",
       "6             Temperature:     -87 to -5 °C      -88 to 58°C"
      ]
     },
     "execution_count": 6,
     "metadata": {},
     "output_type": "execute_result"
    }
   ],
   "source": [
    "df = tables[0]\n",
    "df.columns = ['Description','Mars','Earth']\n",
    "df"
   ]
  },
  {
   "cell_type": "code",
   "execution_count": 7,
   "id": "94a24fa8-bff3-4f3e-b876-a8ed2c6cd2e4",
   "metadata": {},
   "outputs": [
    {
     "data": {
      "text/html": [
       "<div>\n",
       "<style scoped>\n",
       "    .dataframe tbody tr th:only-of-type {\n",
       "        vertical-align: middle;\n",
       "    }\n",
       "\n",
       "    .dataframe tbody tr th {\n",
       "        vertical-align: top;\n",
       "    }\n",
       "\n",
       "    .dataframe thead th {\n",
       "        text-align: right;\n",
       "    }\n",
       "</style>\n",
       "<table border=\"1\" class=\"dataframe\">\n",
       "  <thead>\n",
       "    <tr style=\"text-align: right;\">\n",
       "      <th></th>\n",
       "      <th>Mars</th>\n",
       "      <th>Earth</th>\n",
       "    </tr>\n",
       "    <tr>\n",
       "      <th>Description</th>\n",
       "      <th></th>\n",
       "      <th></th>\n",
       "    </tr>\n",
       "  </thead>\n",
       "  <tbody>\n",
       "    <tr>\n",
       "      <th>Mars - Earth Comparison</th>\n",
       "      <td>Mars</td>\n",
       "      <td>Earth</td>\n",
       "    </tr>\n",
       "    <tr>\n",
       "      <th>Diameter:</th>\n",
       "      <td>6,779 km</td>\n",
       "      <td>12,742 km</td>\n",
       "    </tr>\n",
       "    <tr>\n",
       "      <th>Mass:</th>\n",
       "      <td>6.39 × 10^23 kg</td>\n",
       "      <td>5.97 × 10^24 kg</td>\n",
       "    </tr>\n",
       "    <tr>\n",
       "      <th>Moons:</th>\n",
       "      <td>2</td>\n",
       "      <td>1</td>\n",
       "    </tr>\n",
       "    <tr>\n",
       "      <th>Distance from Sun:</th>\n",
       "      <td>227,943,824 km</td>\n",
       "      <td>149,598,262 km</td>\n",
       "    </tr>\n",
       "    <tr>\n",
       "      <th>Length of Year:</th>\n",
       "      <td>687 Earth days</td>\n",
       "      <td>365.24 days</td>\n",
       "    </tr>\n",
       "    <tr>\n",
       "      <th>Temperature:</th>\n",
       "      <td>-87 to -5 °C</td>\n",
       "      <td>-88 to 58°C</td>\n",
       "    </tr>\n",
       "  </tbody>\n",
       "</table>\n",
       "</div>"
      ],
      "text/plain": [
       "                                    Mars            Earth\n",
       "Description                                              \n",
       "Mars - Earth Comparison             Mars            Earth\n",
       "Diameter:                       6,779 km        12,742 km\n",
       "Mass:                    6.39 × 10^23 kg  5.97 × 10^24 kg\n",
       "Moons:                                 2                1\n",
       "Distance from Sun:        227,943,824 km   149,598,262 km\n",
       "Length of Year:           687 Earth days      365.24 days\n",
       "Temperature:                -87 to -5 °C      -88 to 58°C"
      ]
     },
     "execution_count": 7,
     "metadata": {},
     "output_type": "execute_result"
    }
   ],
   "source": [
    "df.set_index('Description')"
   ]
  },
  {
   "cell_type": "code",
   "execution_count": 8,
   "id": "f9e4ed1a-01c0-4b02-be09-18496da49393",
   "metadata": {},
   "outputs": [
    {
     "data": {
      "text/plain": [
       "'<table border=\"1\" class=\"dataframe\">\\n  <thead>\\n    <tr style=\"text-align: right;\">\\n      <th></th>\\n      <th>Description</th>\\n      <th>Mars</th>\\n      <th>Earth</th>\\n    </tr>\\n  </thead>\\n  <tbody>\\n    <tr>\\n      <th>0</th>\\n      <td>Mars - Earth Comparison</td>\\n      <td>Mars</td>\\n      <td>Earth</td>\\n    </tr>\\n    <tr>\\n      <th>1</th>\\n      <td>Diameter:</td>\\n      <td>6,779 km</td>\\n      <td>12,742 km</td>\\n    </tr>\\n    <tr>\\n      <th>2</th>\\n      <td>Mass:</td>\\n      <td>6.39 × 10^23 kg</td>\\n      <td>5.97 × 10^24 kg</td>\\n    </tr>\\n    <tr>\\n      <th>3</th>\\n      <td>Moons:</td>\\n      <td>2</td>\\n      <td>1</td>\\n    </tr>\\n    <tr>\\n      <th>4</th>\\n      <td>Distance from Sun:</td>\\n      <td>227,943,824 km</td>\\n      <td>149,598,262 km</td>\\n    </tr>\\n    <tr>\\n      <th>5</th>\\n      <td>Length of Year:</td>\\n      <td>687 Earth days</td>\\n      <td>365.24 days</td>\\n    </tr>\\n    <tr>\\n      <th>6</th>\\n      <td>Temperature:</td>\\n      <td>-87 to -5 °C</td>\\n      <td>-88 to 58°C</td>\\n    </tr>\\n  </tbody>\\n</table>'"
      ]
     },
     "execution_count": 8,
     "metadata": {},
     "output_type": "execute_result"
    }
   ],
   "source": [
    "Mars_html = df.to_html()\n",
    "Mars_html"
   ]
  },
  {
   "cell_type": "code",
   "execution_count": 12,
   "id": "a0cbd5d1-135c-4f9b-9f53-8dfecee709d1",
   "metadata": {},
   "outputs": [],
   "source": [
    "df.to_html(\"templates/index.html\")"
   ]
  },
  {
   "cell_type": "code",
   "execution_count": 13,
   "id": "875a163b-3d4f-4aa1-ba18-54d030dd8c18",
   "metadata": {},
   "outputs": [
    {
     "data": {
      "text/plain": [
       "[['Mars - Earth Comparison', 'Mars', 'Earth'],\n",
       " ['Diameter:', '6,779 km', '12,742 km'],\n",
       " ['Mass:', '6.39 × 10^23 kg', '5.97 × 10^24 kg'],\n",
       " ['Moons:', '2', '1'],\n",
       " ['Distance from Sun:', '227,943,824 km', '149,598,262 km'],\n",
       " ['Length of Year:', '687 Earth days', '365.24 days'],\n",
       " ['Temperature:', '-87 to -5 °C', '-88 to 58°C']]"
      ]
     },
     "execution_count": 13,
     "metadata": {},
     "output_type": "execute_result"
    }
   ],
   "source": [
    "mars_list = df.values.tolist()\n",
    "mars_list"
   ]
  },
  {
   "cell_type": "code",
   "execution_count": 15,
   "id": "59327d5b-b2fb-4ebd-bcab-e4ed62c47613",
   "metadata": {},
   "outputs": [
    {
     "data": {
      "text/plain": [
       "'Earth'"
      ]
     },
     "execution_count": 15,
     "metadata": {},
     "output_type": "execute_result"
    }
   ],
   "source": [
    "mars_list[0][2]"
   ]
  },
  {
   "cell_type": "markdown",
   "id": "7cd82606-44d4-418b-a8c9-57ebbd253de3",
   "metadata": {},
   "source": [
    "### Mars Hemispheres\n",
    "\n",
    "\n",
    "### Visit the astrogeology site here to obtain high resolution images for each of Mar's hemispheres.\n",
    "\n",
    "\n",
    "### You will need to click each of the links to the hemispheres in order to find the image url to the full resolution image.\n",
    "\n",
    "\n",
    "### Save both the image url string for the full resolution hemisphere image, and the Hemisphere title containing the hemisphere name. Use a Python dictionary to store the data using the keys img_url and title.\n",
    "\n",
    "\n",
    "### Append the dictionary with the image url string and the hemisphere title to a list. This list will contain one dictionary for each hemisphere."
   ]
  },
  {
   "cell_type": "code",
   "execution_count": 471,
   "id": "0454b30b-7535-406a-a911-6cdcdde78caa",
   "metadata": {},
   "outputs": [
    {
     "name": "stderr",
     "output_type": "stream",
     "text": [
      "\n",
      "\n",
      "====== WebDriver manager ======\n",
      "Current google-chrome version is 97.0.4692\n",
      "Get LATEST chromedriver version for 97.0.4692 google-chrome\n",
      "Driver [C:\\Users\\doyel\\.wdm\\drivers\\chromedriver\\win32\\97.0.4692.71\\chromedriver.exe] found in cache\n"
     ]
    }
   ],
   "source": [
    "# Setup splinter\n",
    "executable_path = {'executable_path': ChromeDriverManager().install()}\n",
    "browser = Browser('chrome', **executable_path, headless=False)"
   ]
  },
  {
   "cell_type": "code",
   "execution_count": 472,
   "id": "2fcd0b58-6a18-4ac6-87f9-a4ec1d3eca36",
   "metadata": {},
   "outputs": [],
   "source": [
    "url = \"https://marshemispheres.com/\"\n",
    "browser.visit(url)"
   ]
  },
  {
   "cell_type": "code",
   "execution_count": 473,
   "id": "d16bc595-f7ce-4952-a693-c1280c8838b9",
   "metadata": {},
   "outputs": [],
   "source": [
    "html = browser.html\n",
    "soup = BeautifulSoup(html, 'html.parser')\n"
   ]
  },
  {
   "cell_type": "code",
   "execution_count": 451,
   "id": "b122281c-12ae-4924-9202-94746a4f3743",
   "metadata": {},
   "outputs": [],
   "source": [
    "links = soup.find_all('a', class_='itemLink product-item')\n",
    "\n",
    "title_list = []\n",
    "# Loop over td elements\n",
    "for link in links:\n",
    "    # If td element has an anchor...\n",
    "    if (link.h3):\n",
    "        if (link.h3.text):\n",
    "            # Append the td to the list\n",
    "            title_list.append(link.h3.text)\n"
   ]
  },
  {
   "cell_type": "code",
   "execution_count": 235,
   "id": "652edd3c-886a-4d80-ac4c-0a6b99d9cbc0",
   "metadata": {},
   "outputs": [],
   "source": [
    "title_list_final = []\n",
    "for i in range (0 , 4) :\n",
    "    title_list_final.append(title_list[i])"
   ]
  },
  {
   "cell_type": "code",
   "execution_count": 236,
   "id": "3c41a469-1a34-4dac-91bf-473084deaba8",
   "metadata": {},
   "outputs": [
    {
     "data": {
      "text/plain": [
       "['Cerberus Hemisphere Enhanced',\n",
       " 'Schiaparelli Hemisphere Enhanced',\n",
       " 'Syrtis Major Hemisphere Enhanced',\n",
       " 'Valles Marineris Hemisphere Enhanced']"
      ]
     },
     "execution_count": 236,
     "metadata": {},
     "output_type": "execute_result"
    }
   ],
   "source": [
    "title_list_final"
   ]
  },
  {
   "cell_type": "code",
   "execution_count": null,
   "id": "592cac1b-8aa6-4ac1-9cc6-5adffd682d42",
   "metadata": {},
   "outputs": [],
   "source": [
    "\"itemLink product-item\""
   ]
  },
  {
   "cell_type": "code",
   "execution_count": 474,
   "id": "a559eba3-8a73-4289-bb8e-252e7c347b89",
   "metadata": {},
   "outputs": [
    {
     "data": {
      "text/plain": [
       "['cerberus.html', 'schiaparelli.html', 'syrtis.html', 'valles.html']"
      ]
     },
     "execution_count": 474,
     "metadata": {},
     "output_type": "execute_result"
    }
   ],
   "source": [
    "links = soup.find_all('div', class_='item')\n",
    "img_url_list = []\n",
    "url_list = []\n",
    "\n",
    "for link in links :\n",
    "    url=link.find('a')['href']\n",
    "    #final_url = \"https://marshemispheres.com/\" + url\n",
    "    url_list.append(url)\n",
    "    \n",
    "url_list"
   ]
  },
  {
   "cell_type": "code",
   "execution_count": 421,
   "id": "6e846187-a7c6-4d63-ac2d-447ed6c0c9fe",
   "metadata": {},
   "outputs": [],
   "source": [
    "links = soup.find_all('div', class_='item')\n",
    "img_url_list = []\n",
    "url_list = []\n",
    "\n",
    "for link in links :\n",
    "    url=link.find('a')['href']\n",
    "    url_list.append(url)"
   ]
  },
  {
   "cell_type": "code",
   "execution_count": 422,
   "id": "31cab260-7658-4068-88bb-7a8b0a08c86c",
   "metadata": {},
   "outputs": [
    {
     "data": {
      "text/plain": [
       "[]"
      ]
     },
     "execution_count": 422,
     "metadata": {},
     "output_type": "execute_result"
    }
   ],
   "source": [
    "url_list"
   ]
  },
  {
   "cell_type": "code",
   "execution_count": 468,
   "id": "8e194169-39d8-4779-bf63-d25d3359dd3c",
   "metadata": {},
   "outputs": [],
   "source": [
    "# Use splinter to Click the \"Mars in natural color in 2007\" image \n",
    "# to bring up the full resolution image\n",
    "img_url_list = []\n",
    "    #for i in range(0,4):\n",
    "   # xpath = \"\"\n",
    "    #alt_list = [\"Cerberus Hemisphere Enhanced thumbnail\",\"Schiaparelli Hemisphere Enhanced thumbnail\",\"Syrtis Major Hemisphere Enhanced thumbnail\",\"Valles Marineris Hemisphere Enhanced thumbnail\"]\n",
    "    #xpath = '//img[@alt ='+ \"'\" + alt_list[i] + \"'\" +']'\n",
    "#xpath='//div//a[@class=\"itemLink product-item\"]/img'\n",
    "xpath = '//a[@href=' + '\"' + url_list[0] + '\"' + ']/img'\n",
    "    #img_url_list.append(xpath)\n",
    "results = browser.find_by_xpath(xpath)\n",
    "image = results[0]\n",
    "image.click()\n",
    "html = browser.html\n",
    "soup = BeautifulSoup(html, 'html.parser')\n",
    "img_url1 = soup.find(\"img\", class_=\"wide-image\")[\"src\"]\n",
    "#img_url_list.append(img_url)\n",
    "    \n",
    "    \n",
    "   \n",
    "    \n",
    "    \n",
    "    "
   ]
  },
  {
   "cell_type": "code",
   "execution_count": 469,
   "id": "a4da492a-81b2-422f-bc3f-3fd1696063f1",
   "metadata": {},
   "outputs": [
    {
     "data": {
      "text/plain": [
       "'images/f5e372a36edfa389625da6d0cc25d905_cerberus_enhanced.tif_full.jpg'"
      ]
     },
     "execution_count": 469,
     "metadata": {},
     "output_type": "execute_result"
    }
   ],
   "source": [
    "img_url1"
   ]
  },
  {
   "cell_type": "code",
   "execution_count": 477,
   "id": "68a26177-e0d6-47d8-8f3f-a7b52fee4777",
   "metadata": {},
   "outputs": [],
   "source": [
    "\n",
    "url = \"https://marshemispheres.com/\"\n",
    "browser.visit(url)\n",
    "\n",
    "xpath = '//a[@href=' + '\"' + url_list[1] + '\"' + ']/img'\n",
    "results = browser.find_by_xpath(xpath)\n",
    "image = results[0]\n",
    "image.click()\n",
    "html = browser.html\n",
    "soup = BeautifulSoup(html, 'html.parser')\n",
    "img_url2 = soup.find(\"img\", class_=\"wide-image\")[\"src\"]\n",
    " "
   ]
  },
  {
   "cell_type": "code",
   "execution_count": 478,
   "id": "9fcd04f3-c3b1-4436-85cb-ebe0f965da6c",
   "metadata": {},
   "outputs": [
    {
     "data": {
      "text/plain": [
       "'images/3778f7b43bbbc89d6e3cfabb3613ba93_schiaparelli_enhanced.tif_full.jpg'"
      ]
     },
     "execution_count": 478,
     "metadata": {},
     "output_type": "execute_result"
    }
   ],
   "source": [
    "img_url2"
   ]
  },
  {
   "cell_type": "code",
   "execution_count": 479,
   "id": "643a370c-20ac-47ad-bb80-6a0c45435341",
   "metadata": {},
   "outputs": [],
   "source": [
    "\n",
    "url = \"https://marshemispheres.com/\"\n",
    "browser.visit(url)\n",
    "\n",
    "xpath = '//a[@href=' + '\"' + url_list[2] + '\"' + ']/img'\n",
    "results = browser.find_by_xpath(xpath)\n",
    "image = results[0]\n",
    "image.click()\n",
    "html = browser.html\n",
    "soup = BeautifulSoup(html, 'html.parser')\n",
    "img_url3 = soup.find(\"img\", class_=\"wide-image\")[\"src\"]"
   ]
  },
  {
   "cell_type": "code",
   "execution_count": 480,
   "id": "28a99895-bcac-4f32-b2ed-4415fbacb9bd",
   "metadata": {},
   "outputs": [
    {
     "data": {
      "text/plain": [
       "'images/555e6403a6ddd7ba16ddb0e471cadcf7_syrtis_major_enhanced.tif_full.jpg'"
      ]
     },
     "execution_count": 480,
     "metadata": {},
     "output_type": "execute_result"
    }
   ],
   "source": [
    "img_url3"
   ]
  },
  {
   "cell_type": "code",
   "execution_count": 481,
   "id": "c2138b09-8f81-4d8b-aa64-2654d16b1096",
   "metadata": {},
   "outputs": [],
   "source": [
    "url = \"https://marshemispheres.com/\"\n",
    "browser.visit(url)\n",
    "\n",
    "xpath = '//a[@href=' + '\"' + url_list[3] + '\"' + ']/img'\n",
    "results = browser.find_by_xpath(xpath)\n",
    "image = results[0]\n",
    "image.click()\n",
    "html = browser.html\n",
    "soup = BeautifulSoup(html, 'html.parser')\n",
    "img_url4 = soup.find(\"img\", class_=\"wide-image\")[\"src\"]"
   ]
  },
  {
   "cell_type": "code",
   "execution_count": 482,
   "id": "383521dc-d408-4251-b91d-9ebca7318340",
   "metadata": {},
   "outputs": [
    {
     "data": {
      "text/plain": [
       "'images/b3c7c6c9138f57b4756be9b9c43e3a48_valles_marineris_enhanced.tif_full.jpg'"
      ]
     },
     "execution_count": 482,
     "metadata": {},
     "output_type": "execute_result"
    }
   ],
   "source": [
    "img_url4 "
   ]
  },
  {
   "cell_type": "code",
   "execution_count": 332,
   "id": "71855584-950a-46cd-be1a-3d96853559df",
   "metadata": {},
   "outputs": [],
   "source": [
    "results = browser.find_by_xpath(xpath)\n",
    "image = results[0]\n",
    "image.click()"
   ]
  },
  {
   "cell_type": "code",
   "execution_count": 333,
   "id": "6466193d-b800-4905-ba44-edb08bdbcf74",
   "metadata": {},
   "outputs": [],
   "source": [
    "    #results = browser.find_by_xpath(xpath)\n",
    "    #image = results[0]\n",
    "    #image.click()\n",
    "    \n",
    "    html = browser.html\n",
    "    soup = BeautifulSoup(html, 'html.parser')\n",
    "    img_url = soup.find(\"img\", class_=\"wide-image\")[\"src\"]\n",
    "    #img_url_list.append(img_url)"
   ]
  },
  {
   "cell_type": "code",
   "execution_count": 334,
   "id": "6b12fc1f-4647-4f74-b421-351ba01ea494",
   "metadata": {},
   "outputs": [
    {
     "data": {
      "text/plain": [
       "'images/f5e372a36edfa389625da6d0cc25d905_cerberus_enhanced.tif_full.jpg'"
      ]
     },
     "execution_count": 334,
     "metadata": {},
     "output_type": "execute_result"
    }
   ],
   "source": [
    "img_url"
   ]
  },
  {
   "cell_type": "code",
   "execution_count": 306,
   "id": "3ed2efff-a4db-4886-bbef-edd2f6171aa1",
   "metadata": {},
   "outputs": [],
   "source": [
    "    \n",
    "results = browser.find_by_xpath(img_url_list[0])\n",
    "image = results[0]\n",
    "image.click()\n",
    "    \n",
    "    "
   ]
  },
  {
   "cell_type": "code",
   "execution_count": 286,
   "id": "203c68ee-f1e5-421e-89d5-909cbf54745a",
   "metadata": {},
   "outputs": [
    {
     "data": {
      "text/plain": [
       "'images/f5e372a36edfa389625da6d0cc25d905_cerberus_enhanced.tif_full.jpg'"
      ]
     },
     "execution_count": 286,
     "metadata": {},
     "output_type": "execute_result"
    }
   ],
   "source": [
    "img_url"
   ]
  },
  {
   "cell_type": "code",
   "execution_count": 307,
   "id": "9ed916fe-7c9c-459e-a20f-aefe8cf420c5",
   "metadata": {},
   "outputs": [],
   "source": [
    "html = browser.html\n",
    "soup = BeautifulSoup(html, 'html.parser')\n",
    "img_url = soup.find(\"img\", class_=\"wide-image\")[\"src\"]"
   ]
  },
  {
   "cell_type": "code",
   "execution_count": 308,
   "id": "f12b370b-ff32-4710-84c2-255a8e85a997",
   "metadata": {},
   "outputs": [
    {
     "data": {
      "text/plain": [
       "'images/f5e372a36edfa389625da6d0cc25d905_cerberus_enhanced.tif_full.jpg'"
      ]
     },
     "execution_count": 308,
     "metadata": {},
     "output_type": "execute_result"
    }
   ],
   "source": [
    "img_url"
   ]
  },
  {
   "cell_type": "code",
   "execution_count": null,
   "id": "e8bcd710-f141-409a-93c7-d328f1fad9ba",
   "metadata": {},
   "outputs": [],
   "source": [
    "hemisphere_image_urls = [\n",
    "    {\"title\": title_list_final[0], \"img_url\": img_url1},\n",
    "    {\"title\": title_list_final[1], \"img_url\": img_url2},\n",
    "    {\"title\": title_list_final[3], \"img_url\": img_url3},\n",
    "    {\"title\": title_list_final[4], \"img_url\": img_url4},\n",
    "]\n"
   ]
  }
 ],
 "metadata": {
  "kernelspec": {
   "display_name": "Python 3",
   "language": "python",
   "name": "python3"
  },
  "language_info": {
   "codemirror_mode": {
    "name": "ipython",
    "version": 3
   },
   "file_extension": ".py",
   "mimetype": "text/x-python",
   "name": "python",
   "nbconvert_exporter": "python",
   "pygments_lexer": "ipython3",
   "version": "3.8.8"
  }
 },
 "nbformat": 4,
 "nbformat_minor": 5
}
